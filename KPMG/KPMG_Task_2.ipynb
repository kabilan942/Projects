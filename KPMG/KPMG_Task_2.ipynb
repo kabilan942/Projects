{
  "nbformat": 4,
  "nbformat_minor": 0,
  "metadata": {
    "colab": {
      "provenance": [],
      "collapsed_sections": [],
      "toc_visible": true,
      "authorship_tag": "ABX9TyPSbuV7z4gwSLOUemCtH/Dq",
      "include_colab_link": true
    },
    "kernelspec": {
      "name": "python3",
      "display_name": "Python 3"
    },
    "language_info": {
      "name": "python"
    }
  },
  "cells": [
    {
      "cell_type": "markdown",
      "metadata": {
        "id": "view-in-github",
        "colab_type": "text"
      },
      "source": [
        "<a href=\"https://colab.research.google.com/github/kabilan942/Virtual-Internship/blob/main/KPMG/KPMG_Task_2.ipynb\" target=\"_parent\"><img src=\"https://colab.research.google.com/assets/colab-badge.svg\" alt=\"Open In Colab\"/></a>"
      ]
    },
    {
      "cell_type": "code",
      "execution_count": 3,
      "metadata": {
        "id": "YjSualgFB2za"
      },
      "outputs": [],
      "source": [
        "import pandas as pd"
      ]
    },
    {
      "cell_type": "code",
      "source": [
        "cust_demo = pd.read_excel('KPMG.xlsx', 'CustomerDemographic')  \n",
        "cust_add = pd.read_excel('KPMG.xlsx', 'CustomerAddress')   \n",
        "cust_trans = pd.read_excel('KPMG.xlsx', 'Transactions')   \n",
        "cust_new = pd.read_excel('KPMG.xlsx','NewCustomerList')"
      ],
      "metadata": {
        "colab": {
          "base_uri": "https://localhost:8080/"
        },
        "id": "aETZMohWB7YG",
        "outputId": "92acc2e1-ed6c-4fee-dcbe-3d10c81ddb8c"
      },
      "execution_count": 4,
      "outputs": [
        {
          "output_type": "stream",
          "name": "stderr",
          "text": [
            "/usr/local/lib/python3.7/dist-packages/ipykernel_launcher.py:1: FutureWarning: Inferring datetime64[ns] from data containing strings is deprecated and will be removed in a future version. To retain the old behavior explicitly pass Series(data, dtype={value.dtype})\n",
            "  \"\"\"Entry point for launching an IPython kernel.\n",
            "/usr/local/lib/python3.7/dist-packages/ipykernel_launcher.py:4: FutureWarning: Inferring datetime64[ns] from data containing strings is deprecated and will be removed in a future version. To retain the old behavior explicitly pass Series(data, dtype={value.dtype})\n",
            "  after removing the cwd from sys.path.\n"
          ]
        }
      ]
    },
    {
      "cell_type": "code",
      "source": [
        "cust_details = pd.merge(cust_demo, cust_add, on='customer_id')"
      ],
      "metadata": {
        "id": "t1iG6NvYB_5Y"
      },
      "execution_count": 5,
      "outputs": []
    },
    {
      "cell_type": "code",
      "source": [
        "cust_details.shape"
      ],
      "metadata": {
        "colab": {
          "base_uri": "https://localhost:8080/"
        },
        "id": "OIHE0F6TCPqv",
        "outputId": "4ccf03c8-3bdc-439f-9433-25098b100d8f"
      },
      "execution_count": 6,
      "outputs": [
        {
          "output_type": "execute_result",
          "data": {
            "text/plain": [
              "(3996, 18)"
            ]
          },
          "metadata": {},
          "execution_count": 6
        }
      ]
    },
    {
      "cell_type": "code",
      "source": [
        "cust_details.columns"
      ],
      "metadata": {
        "colab": {
          "base_uri": "https://localhost:8080/"
        },
        "id": "miI2_tWICZ8z",
        "outputId": "d57e1304-7829-4655-aff7-e68019cf2776"
      },
      "execution_count": 7,
      "outputs": [
        {
          "output_type": "execute_result",
          "data": {
            "text/plain": [
              "Index(['customer_id', 'first_name', 'last_name', 'gender',\n",
              "       'past_3_years_bike_related_purchases', 'DOB', 'job_title',\n",
              "       'job_industry_category', 'wealth_segment', 'deceased_indicator',\n",
              "       'default', 'owns_car', 'tenure', 'address', 'postcode', 'state',\n",
              "       'country', 'property_valuation'],\n",
              "      dtype='object')"
            ]
          },
          "metadata": {},
          "execution_count": 7
        }
      ]
    },
    {
      "cell_type": "code",
      "source": [
        "cust_details.drop(['first_name', 'last_name','job_title','deceased_indicator','default',\n",
        "                   'address', 'postcode', 'state', 'country'], axis=1, inplace=True)"
      ],
      "metadata": {
        "id": "RQ5IY9kgCcXR"
      },
      "execution_count": 8,
      "outputs": []
    },
    {
      "cell_type": "code",
      "source": [
        "cust_details.shape"
      ],
      "metadata": {
        "colab": {
          "base_uri": "https://localhost:8080/"
        },
        "id": "y7_nhabvC9Ux",
        "outputId": "91a79bac-b867-44cd-f900-2fa3360c4c6f"
      },
      "execution_count": 9,
      "outputs": [
        {
          "output_type": "execute_result",
          "data": {
            "text/plain": [
              "(3996, 9)"
            ]
          },
          "metadata": {},
          "execution_count": 9
        }
      ]
    },
    {
      "cell_type": "code",
      "source": [
        "cust_details.head()"
      ],
      "metadata": {
        "colab": {
          "base_uri": "https://localhost:8080/",
          "height": 357
        },
        "id": "lW8blyO3DDFC",
        "outputId": "102c649a-d956-458f-d470-ad68dd731871"
      },
      "execution_count": 10,
      "outputs": [
        {
          "output_type": "execute_result",
          "data": {
            "text/plain": [
              "   customer_id  gender  past_3_years_bike_related_purchases        DOB  \\\n",
              "0            1       F                                   93 1953-10-12   \n",
              "1            2    Male                                   81 1980-12-16   \n",
              "2            4    Male                                   33 1961-10-03   \n",
              "3            5  Female                                   56 1977-05-13   \n",
              "4            6    Male                                   35 1966-09-16   \n",
              "\n",
              "  job_industry_category     wealth_segment owns_car  tenure  \\\n",
              "0                Health      Mass Customer      Yes    11.0   \n",
              "1    Financial Services      Mass Customer      Yes    16.0   \n",
              "2                    IT      Mass Customer       No     7.0   \n",
              "3                   NaN  Affluent Customer      Yes     8.0   \n",
              "4                Retail     High Net Worth      Yes    13.0   \n",
              "\n",
              "   property_valuation  \n",
              "0                  10  \n",
              "1                  10  \n",
              "2                   9  \n",
              "3                   4  \n",
              "4                   9  "
            ],
            "text/html": [
              "\n",
              "  <div id=\"df-05b93b7f-9f67-4430-96eb-019964ae4140\">\n",
              "    <div class=\"colab-df-container\">\n",
              "      <div>\n",
              "<style scoped>\n",
              "    .dataframe tbody tr th:only-of-type {\n",
              "        vertical-align: middle;\n",
              "    }\n",
              "\n",
              "    .dataframe tbody tr th {\n",
              "        vertical-align: top;\n",
              "    }\n",
              "\n",
              "    .dataframe thead th {\n",
              "        text-align: right;\n",
              "    }\n",
              "</style>\n",
              "<table border=\"1\" class=\"dataframe\">\n",
              "  <thead>\n",
              "    <tr style=\"text-align: right;\">\n",
              "      <th></th>\n",
              "      <th>customer_id</th>\n",
              "      <th>gender</th>\n",
              "      <th>past_3_years_bike_related_purchases</th>\n",
              "      <th>DOB</th>\n",
              "      <th>job_industry_category</th>\n",
              "      <th>wealth_segment</th>\n",
              "      <th>owns_car</th>\n",
              "      <th>tenure</th>\n",
              "      <th>property_valuation</th>\n",
              "    </tr>\n",
              "  </thead>\n",
              "  <tbody>\n",
              "    <tr>\n",
              "      <th>0</th>\n",
              "      <td>1</td>\n",
              "      <td>F</td>\n",
              "      <td>93</td>\n",
              "      <td>1953-10-12</td>\n",
              "      <td>Health</td>\n",
              "      <td>Mass Customer</td>\n",
              "      <td>Yes</td>\n",
              "      <td>11.0</td>\n",
              "      <td>10</td>\n",
              "    </tr>\n",
              "    <tr>\n",
              "      <th>1</th>\n",
              "      <td>2</td>\n",
              "      <td>Male</td>\n",
              "      <td>81</td>\n",
              "      <td>1980-12-16</td>\n",
              "      <td>Financial Services</td>\n",
              "      <td>Mass Customer</td>\n",
              "      <td>Yes</td>\n",
              "      <td>16.0</td>\n",
              "      <td>10</td>\n",
              "    </tr>\n",
              "    <tr>\n",
              "      <th>2</th>\n",
              "      <td>4</td>\n",
              "      <td>Male</td>\n",
              "      <td>33</td>\n",
              "      <td>1961-10-03</td>\n",
              "      <td>IT</td>\n",
              "      <td>Mass Customer</td>\n",
              "      <td>No</td>\n",
              "      <td>7.0</td>\n",
              "      <td>9</td>\n",
              "    </tr>\n",
              "    <tr>\n",
              "      <th>3</th>\n",
              "      <td>5</td>\n",
              "      <td>Female</td>\n",
              "      <td>56</td>\n",
              "      <td>1977-05-13</td>\n",
              "      <td>NaN</td>\n",
              "      <td>Affluent Customer</td>\n",
              "      <td>Yes</td>\n",
              "      <td>8.0</td>\n",
              "      <td>4</td>\n",
              "    </tr>\n",
              "    <tr>\n",
              "      <th>4</th>\n",
              "      <td>6</td>\n",
              "      <td>Male</td>\n",
              "      <td>35</td>\n",
              "      <td>1966-09-16</td>\n",
              "      <td>Retail</td>\n",
              "      <td>High Net Worth</td>\n",
              "      <td>Yes</td>\n",
              "      <td>13.0</td>\n",
              "      <td>9</td>\n",
              "    </tr>\n",
              "  </tbody>\n",
              "</table>\n",
              "</div>\n",
              "      <button class=\"colab-df-convert\" onclick=\"convertToInteractive('df-05b93b7f-9f67-4430-96eb-019964ae4140')\"\n",
              "              title=\"Convert this dataframe to an interactive table.\"\n",
              "              style=\"display:none;\">\n",
              "        \n",
              "  <svg xmlns=\"http://www.w3.org/2000/svg\" height=\"24px\"viewBox=\"0 0 24 24\"\n",
              "       width=\"24px\">\n",
              "    <path d=\"M0 0h24v24H0V0z\" fill=\"none\"/>\n",
              "    <path d=\"M18.56 5.44l.94 2.06.94-2.06 2.06-.94-2.06-.94-.94-2.06-.94 2.06-2.06.94zm-11 1L8.5 8.5l.94-2.06 2.06-.94-2.06-.94L8.5 2.5l-.94 2.06-2.06.94zm10 10l.94 2.06.94-2.06 2.06-.94-2.06-.94-.94-2.06-.94 2.06-2.06.94z\"/><path d=\"M17.41 7.96l-1.37-1.37c-.4-.4-.92-.59-1.43-.59-.52 0-1.04.2-1.43.59L10.3 9.45l-7.72 7.72c-.78.78-.78 2.05 0 2.83L4 21.41c.39.39.9.59 1.41.59.51 0 1.02-.2 1.41-.59l7.78-7.78 2.81-2.81c.8-.78.8-2.07 0-2.86zM5.41 20L4 18.59l7.72-7.72 1.47 1.35L5.41 20z\"/>\n",
              "  </svg>\n",
              "      </button>\n",
              "      \n",
              "  <style>\n",
              "    .colab-df-container {\n",
              "      display:flex;\n",
              "      flex-wrap:wrap;\n",
              "      gap: 12px;\n",
              "    }\n",
              "\n",
              "    .colab-df-convert {\n",
              "      background-color: #E8F0FE;\n",
              "      border: none;\n",
              "      border-radius: 50%;\n",
              "      cursor: pointer;\n",
              "      display: none;\n",
              "      fill: #1967D2;\n",
              "      height: 32px;\n",
              "      padding: 0 0 0 0;\n",
              "      width: 32px;\n",
              "    }\n",
              "\n",
              "    .colab-df-convert:hover {\n",
              "      background-color: #E2EBFA;\n",
              "      box-shadow: 0px 1px 2px rgba(60, 64, 67, 0.3), 0px 1px 3px 1px rgba(60, 64, 67, 0.15);\n",
              "      fill: #174EA6;\n",
              "    }\n",
              "\n",
              "    [theme=dark] .colab-df-convert {\n",
              "      background-color: #3B4455;\n",
              "      fill: #D2E3FC;\n",
              "    }\n",
              "\n",
              "    [theme=dark] .colab-df-convert:hover {\n",
              "      background-color: #434B5C;\n",
              "      box-shadow: 0px 1px 3px 1px rgba(0, 0, 0, 0.15);\n",
              "      filter: drop-shadow(0px 1px 2px rgba(0, 0, 0, 0.3));\n",
              "      fill: #FFFFFF;\n",
              "    }\n",
              "  </style>\n",
              "\n",
              "      <script>\n",
              "        const buttonEl =\n",
              "          document.querySelector('#df-05b93b7f-9f67-4430-96eb-019964ae4140 button.colab-df-convert');\n",
              "        buttonEl.style.display =\n",
              "          google.colab.kernel.accessAllowed ? 'block' : 'none';\n",
              "\n",
              "        async function convertToInteractive(key) {\n",
              "          const element = document.querySelector('#df-05b93b7f-9f67-4430-96eb-019964ae4140');\n",
              "          const dataTable =\n",
              "            await google.colab.kernel.invokeFunction('convertToInteractive',\n",
              "                                                     [key], {});\n",
              "          if (!dataTable) return;\n",
              "\n",
              "          const docLinkHtml = 'Like what you see? Visit the ' +\n",
              "            '<a target=\"_blank\" href=https://colab.research.google.com/notebooks/data_table.ipynb>data table notebook</a>'\n",
              "            + ' to learn more about interactive tables.';\n",
              "          element.innerHTML = '';\n",
              "          dataTable['output_type'] = 'display_data';\n",
              "          await google.colab.output.renderOutput(dataTable, element);\n",
              "          const docLink = document.createElement('div');\n",
              "          docLink.innerHTML = docLinkHtml;\n",
              "          element.appendChild(docLink);\n",
              "        }\n",
              "      </script>\n",
              "    </div>\n",
              "  </div>\n",
              "  "
            ]
          },
          "metadata": {},
          "execution_count": 10
        }
      ]
    },
    {
      "cell_type": "code",
      "source": [
        "cust_details.set_index('customer_id', inplace=True)"
      ],
      "metadata": {
        "id": "d6Z8FfbWDOuh"
      },
      "execution_count": 11,
      "outputs": []
    },
    {
      "cell_type": "code",
      "source": [
        "cust_details.head()"
      ],
      "metadata": {
        "colab": {
          "base_uri": "https://localhost:8080/",
          "height": 388
        },
        "id": "7JCu2GVjDimj",
        "outputId": "fb1d4d0b-0cd7-4c71-91e3-05903ee0bba1"
      },
      "execution_count": 12,
      "outputs": [
        {
          "output_type": "execute_result",
          "data": {
            "text/plain": [
              "             gender  past_3_years_bike_related_purchases        DOB  \\\n",
              "customer_id                                                           \n",
              "1                 F                                   93 1953-10-12   \n",
              "2              Male                                   81 1980-12-16   \n",
              "4              Male                                   33 1961-10-03   \n",
              "5            Female                                   56 1977-05-13   \n",
              "6              Male                                   35 1966-09-16   \n",
              "\n",
              "            job_industry_category     wealth_segment owns_car  tenure  \\\n",
              "customer_id                                                             \n",
              "1                          Health      Mass Customer      Yes    11.0   \n",
              "2              Financial Services      Mass Customer      Yes    16.0   \n",
              "4                              IT      Mass Customer       No     7.0   \n",
              "5                             NaN  Affluent Customer      Yes     8.0   \n",
              "6                          Retail     High Net Worth      Yes    13.0   \n",
              "\n",
              "             property_valuation  \n",
              "customer_id                      \n",
              "1                            10  \n",
              "2                            10  \n",
              "4                             9  \n",
              "5                             4  \n",
              "6                             9  "
            ],
            "text/html": [
              "\n",
              "  <div id=\"df-e6f4d9d7-3539-413a-b37d-ca0a7c11d47e\">\n",
              "    <div class=\"colab-df-container\">\n",
              "      <div>\n",
              "<style scoped>\n",
              "    .dataframe tbody tr th:only-of-type {\n",
              "        vertical-align: middle;\n",
              "    }\n",
              "\n",
              "    .dataframe tbody tr th {\n",
              "        vertical-align: top;\n",
              "    }\n",
              "\n",
              "    .dataframe thead th {\n",
              "        text-align: right;\n",
              "    }\n",
              "</style>\n",
              "<table border=\"1\" class=\"dataframe\">\n",
              "  <thead>\n",
              "    <tr style=\"text-align: right;\">\n",
              "      <th></th>\n",
              "      <th>gender</th>\n",
              "      <th>past_3_years_bike_related_purchases</th>\n",
              "      <th>DOB</th>\n",
              "      <th>job_industry_category</th>\n",
              "      <th>wealth_segment</th>\n",
              "      <th>owns_car</th>\n",
              "      <th>tenure</th>\n",
              "      <th>property_valuation</th>\n",
              "    </tr>\n",
              "    <tr>\n",
              "      <th>customer_id</th>\n",
              "      <th></th>\n",
              "      <th></th>\n",
              "      <th></th>\n",
              "      <th></th>\n",
              "      <th></th>\n",
              "      <th></th>\n",
              "      <th></th>\n",
              "      <th></th>\n",
              "    </tr>\n",
              "  </thead>\n",
              "  <tbody>\n",
              "    <tr>\n",
              "      <th>1</th>\n",
              "      <td>F</td>\n",
              "      <td>93</td>\n",
              "      <td>1953-10-12</td>\n",
              "      <td>Health</td>\n",
              "      <td>Mass Customer</td>\n",
              "      <td>Yes</td>\n",
              "      <td>11.0</td>\n",
              "      <td>10</td>\n",
              "    </tr>\n",
              "    <tr>\n",
              "      <th>2</th>\n",
              "      <td>Male</td>\n",
              "      <td>81</td>\n",
              "      <td>1980-12-16</td>\n",
              "      <td>Financial Services</td>\n",
              "      <td>Mass Customer</td>\n",
              "      <td>Yes</td>\n",
              "      <td>16.0</td>\n",
              "      <td>10</td>\n",
              "    </tr>\n",
              "    <tr>\n",
              "      <th>4</th>\n",
              "      <td>Male</td>\n",
              "      <td>33</td>\n",
              "      <td>1961-10-03</td>\n",
              "      <td>IT</td>\n",
              "      <td>Mass Customer</td>\n",
              "      <td>No</td>\n",
              "      <td>7.0</td>\n",
              "      <td>9</td>\n",
              "    </tr>\n",
              "    <tr>\n",
              "      <th>5</th>\n",
              "      <td>Female</td>\n",
              "      <td>56</td>\n",
              "      <td>1977-05-13</td>\n",
              "      <td>NaN</td>\n",
              "      <td>Affluent Customer</td>\n",
              "      <td>Yes</td>\n",
              "      <td>8.0</td>\n",
              "      <td>4</td>\n",
              "    </tr>\n",
              "    <tr>\n",
              "      <th>6</th>\n",
              "      <td>Male</td>\n",
              "      <td>35</td>\n",
              "      <td>1966-09-16</td>\n",
              "      <td>Retail</td>\n",
              "      <td>High Net Worth</td>\n",
              "      <td>Yes</td>\n",
              "      <td>13.0</td>\n",
              "      <td>9</td>\n",
              "    </tr>\n",
              "  </tbody>\n",
              "</table>\n",
              "</div>\n",
              "      <button class=\"colab-df-convert\" onclick=\"convertToInteractive('df-e6f4d9d7-3539-413a-b37d-ca0a7c11d47e')\"\n",
              "              title=\"Convert this dataframe to an interactive table.\"\n",
              "              style=\"display:none;\">\n",
              "        \n",
              "  <svg xmlns=\"http://www.w3.org/2000/svg\" height=\"24px\"viewBox=\"0 0 24 24\"\n",
              "       width=\"24px\">\n",
              "    <path d=\"M0 0h24v24H0V0z\" fill=\"none\"/>\n",
              "    <path d=\"M18.56 5.44l.94 2.06.94-2.06 2.06-.94-2.06-.94-.94-2.06-.94 2.06-2.06.94zm-11 1L8.5 8.5l.94-2.06 2.06-.94-2.06-.94L8.5 2.5l-.94 2.06-2.06.94zm10 10l.94 2.06.94-2.06 2.06-.94-2.06-.94-.94-2.06-.94 2.06-2.06.94z\"/><path d=\"M17.41 7.96l-1.37-1.37c-.4-.4-.92-.59-1.43-.59-.52 0-1.04.2-1.43.59L10.3 9.45l-7.72 7.72c-.78.78-.78 2.05 0 2.83L4 21.41c.39.39.9.59 1.41.59.51 0 1.02-.2 1.41-.59l7.78-7.78 2.81-2.81c.8-.78.8-2.07 0-2.86zM5.41 20L4 18.59l7.72-7.72 1.47 1.35L5.41 20z\"/>\n",
              "  </svg>\n",
              "      </button>\n",
              "      \n",
              "  <style>\n",
              "    .colab-df-container {\n",
              "      display:flex;\n",
              "      flex-wrap:wrap;\n",
              "      gap: 12px;\n",
              "    }\n",
              "\n",
              "    .colab-df-convert {\n",
              "      background-color: #E8F0FE;\n",
              "      border: none;\n",
              "      border-radius: 50%;\n",
              "      cursor: pointer;\n",
              "      display: none;\n",
              "      fill: #1967D2;\n",
              "      height: 32px;\n",
              "      padding: 0 0 0 0;\n",
              "      width: 32px;\n",
              "    }\n",
              "\n",
              "    .colab-df-convert:hover {\n",
              "      background-color: #E2EBFA;\n",
              "      box-shadow: 0px 1px 2px rgba(60, 64, 67, 0.3), 0px 1px 3px 1px rgba(60, 64, 67, 0.15);\n",
              "      fill: #174EA6;\n",
              "    }\n",
              "\n",
              "    [theme=dark] .colab-df-convert {\n",
              "      background-color: #3B4455;\n",
              "      fill: #D2E3FC;\n",
              "    }\n",
              "\n",
              "    [theme=dark] .colab-df-convert:hover {\n",
              "      background-color: #434B5C;\n",
              "      box-shadow: 0px 1px 3px 1px rgba(0, 0, 0, 0.15);\n",
              "      filter: drop-shadow(0px 1px 2px rgba(0, 0, 0, 0.3));\n",
              "      fill: #FFFFFF;\n",
              "    }\n",
              "  </style>\n",
              "\n",
              "      <script>\n",
              "        const buttonEl =\n",
              "          document.querySelector('#df-e6f4d9d7-3539-413a-b37d-ca0a7c11d47e button.colab-df-convert');\n",
              "        buttonEl.style.display =\n",
              "          google.colab.kernel.accessAllowed ? 'block' : 'none';\n",
              "\n",
              "        async function convertToInteractive(key) {\n",
              "          const element = document.querySelector('#df-e6f4d9d7-3539-413a-b37d-ca0a7c11d47e');\n",
              "          const dataTable =\n",
              "            await google.colab.kernel.invokeFunction('convertToInteractive',\n",
              "                                                     [key], {});\n",
              "          if (!dataTable) return;\n",
              "\n",
              "          const docLinkHtml = 'Like what you see? Visit the ' +\n",
              "            '<a target=\"_blank\" href=https://colab.research.google.com/notebooks/data_table.ipynb>data table notebook</a>'\n",
              "            + ' to learn more about interactive tables.';\n",
              "          element.innerHTML = '';\n",
              "          dataTable['output_type'] = 'display_data';\n",
              "          await google.colab.output.renderOutput(dataTable, element);\n",
              "          const docLink = document.createElement('div');\n",
              "          docLink.innerHTML = docLinkHtml;\n",
              "          element.appendChild(docLink);\n",
              "        }\n",
              "      </script>\n",
              "    </div>\n",
              "  </div>\n",
              "  "
            ]
          },
          "metadata": {},
          "execution_count": 12
        }
      ]
    },
    {
      "cell_type": "code",
      "source": [
        "cust_details.info()"
      ],
      "metadata": {
        "colab": {
          "base_uri": "https://localhost:8080/"
        },
        "id": "o2S1qxlqDxIs",
        "outputId": "7b8ce884-006f-42d1-ac73-ef4627346029"
      },
      "execution_count": 13,
      "outputs": [
        {
          "output_type": "stream",
          "name": "stdout",
          "text": [
            "<class 'pandas.core.frame.DataFrame'>\n",
            "Int64Index: 3996 entries, 1 to 4000\n",
            "Data columns (total 8 columns):\n",
            " #   Column                               Non-Null Count  Dtype         \n",
            "---  ------                               --------------  -----         \n",
            " 0   gender                               3996 non-null   object        \n",
            " 1   past_3_years_bike_related_purchases  3996 non-null   int64         \n",
            " 2   DOB                                  3909 non-null   datetime64[ns]\n",
            " 3   job_industry_category                3341 non-null   object        \n",
            " 4   wealth_segment                       3996 non-null   object        \n",
            " 5   owns_car                             3996 non-null   object        \n",
            " 6   tenure                               3909 non-null   float64       \n",
            " 7   property_valuation                   3996 non-null   int64         \n",
            "dtypes: datetime64[ns](1), float64(1), int64(2), object(4)\n",
            "memory usage: 281.0+ KB\n"
          ]
        }
      ]
    },
    {
      "cell_type": "code",
      "source": [
        "cust_details.dropna(axis=0, inplace=True)"
      ],
      "metadata": {
        "id": "uz0SkgiFDxOQ"
      },
      "execution_count": 14,
      "outputs": []
    },
    {
      "cell_type": "code",
      "source": [
        "cust_details.head()"
      ],
      "metadata": {
        "colab": {
          "base_uri": "https://localhost:8080/",
          "height": 388
        },
        "id": "nYOw8r1YH_2t",
        "outputId": "42649dd5-1683-4e4a-c223-98269e74ea05"
      },
      "execution_count": 15,
      "outputs": [
        {
          "output_type": "execute_result",
          "data": {
            "text/plain": [
              "             gender  past_3_years_bike_related_purchases        DOB  \\\n",
              "customer_id                                                           \n",
              "1                 F                                   93 1953-10-12   \n",
              "2              Male                                   81 1980-12-16   \n",
              "4              Male                                   33 1961-10-03   \n",
              "6              Male                                   35 1966-09-16   \n",
              "7            Female                                    6 1976-02-23   \n",
              "\n",
              "            job_industry_category     wealth_segment owns_car  tenure  \\\n",
              "customer_id                                                             \n",
              "1                          Health      Mass Customer      Yes    11.0   \n",
              "2              Financial Services      Mass Customer      Yes    16.0   \n",
              "4                              IT      Mass Customer       No     7.0   \n",
              "6                          Retail     High Net Worth      Yes    13.0   \n",
              "7              Financial Services  Affluent Customer      Yes    11.0   \n",
              "\n",
              "             property_valuation  \n",
              "customer_id                      \n",
              "1                            10  \n",
              "2                            10  \n",
              "4                             9  \n",
              "6                             9  \n",
              "7                             9  "
            ],
            "text/html": [
              "\n",
              "  <div id=\"df-e10bc252-56af-4111-b27a-9f1df7b5fb6a\">\n",
              "    <div class=\"colab-df-container\">\n",
              "      <div>\n",
              "<style scoped>\n",
              "    .dataframe tbody tr th:only-of-type {\n",
              "        vertical-align: middle;\n",
              "    }\n",
              "\n",
              "    .dataframe tbody tr th {\n",
              "        vertical-align: top;\n",
              "    }\n",
              "\n",
              "    .dataframe thead th {\n",
              "        text-align: right;\n",
              "    }\n",
              "</style>\n",
              "<table border=\"1\" class=\"dataframe\">\n",
              "  <thead>\n",
              "    <tr style=\"text-align: right;\">\n",
              "      <th></th>\n",
              "      <th>gender</th>\n",
              "      <th>past_3_years_bike_related_purchases</th>\n",
              "      <th>DOB</th>\n",
              "      <th>job_industry_category</th>\n",
              "      <th>wealth_segment</th>\n",
              "      <th>owns_car</th>\n",
              "      <th>tenure</th>\n",
              "      <th>property_valuation</th>\n",
              "    </tr>\n",
              "    <tr>\n",
              "      <th>customer_id</th>\n",
              "      <th></th>\n",
              "      <th></th>\n",
              "      <th></th>\n",
              "      <th></th>\n",
              "      <th></th>\n",
              "      <th></th>\n",
              "      <th></th>\n",
              "      <th></th>\n",
              "    </tr>\n",
              "  </thead>\n",
              "  <tbody>\n",
              "    <tr>\n",
              "      <th>1</th>\n",
              "      <td>F</td>\n",
              "      <td>93</td>\n",
              "      <td>1953-10-12</td>\n",
              "      <td>Health</td>\n",
              "      <td>Mass Customer</td>\n",
              "      <td>Yes</td>\n",
              "      <td>11.0</td>\n",
              "      <td>10</td>\n",
              "    </tr>\n",
              "    <tr>\n",
              "      <th>2</th>\n",
              "      <td>Male</td>\n",
              "      <td>81</td>\n",
              "      <td>1980-12-16</td>\n",
              "      <td>Financial Services</td>\n",
              "      <td>Mass Customer</td>\n",
              "      <td>Yes</td>\n",
              "      <td>16.0</td>\n",
              "      <td>10</td>\n",
              "    </tr>\n",
              "    <tr>\n",
              "      <th>4</th>\n",
              "      <td>Male</td>\n",
              "      <td>33</td>\n",
              "      <td>1961-10-03</td>\n",
              "      <td>IT</td>\n",
              "      <td>Mass Customer</td>\n",
              "      <td>No</td>\n",
              "      <td>7.0</td>\n",
              "      <td>9</td>\n",
              "    </tr>\n",
              "    <tr>\n",
              "      <th>6</th>\n",
              "      <td>Male</td>\n",
              "      <td>35</td>\n",
              "      <td>1966-09-16</td>\n",
              "      <td>Retail</td>\n",
              "      <td>High Net Worth</td>\n",
              "      <td>Yes</td>\n",
              "      <td>13.0</td>\n",
              "      <td>9</td>\n",
              "    </tr>\n",
              "    <tr>\n",
              "      <th>7</th>\n",
              "      <td>Female</td>\n",
              "      <td>6</td>\n",
              "      <td>1976-02-23</td>\n",
              "      <td>Financial Services</td>\n",
              "      <td>Affluent Customer</td>\n",
              "      <td>Yes</td>\n",
              "      <td>11.0</td>\n",
              "      <td>9</td>\n",
              "    </tr>\n",
              "  </tbody>\n",
              "</table>\n",
              "</div>\n",
              "      <button class=\"colab-df-convert\" onclick=\"convertToInteractive('df-e10bc252-56af-4111-b27a-9f1df7b5fb6a')\"\n",
              "              title=\"Convert this dataframe to an interactive table.\"\n",
              "              style=\"display:none;\">\n",
              "        \n",
              "  <svg xmlns=\"http://www.w3.org/2000/svg\" height=\"24px\"viewBox=\"0 0 24 24\"\n",
              "       width=\"24px\">\n",
              "    <path d=\"M0 0h24v24H0V0z\" fill=\"none\"/>\n",
              "    <path d=\"M18.56 5.44l.94 2.06.94-2.06 2.06-.94-2.06-.94-.94-2.06-.94 2.06-2.06.94zm-11 1L8.5 8.5l.94-2.06 2.06-.94-2.06-.94L8.5 2.5l-.94 2.06-2.06.94zm10 10l.94 2.06.94-2.06 2.06-.94-2.06-.94-.94-2.06-.94 2.06-2.06.94z\"/><path d=\"M17.41 7.96l-1.37-1.37c-.4-.4-.92-.59-1.43-.59-.52 0-1.04.2-1.43.59L10.3 9.45l-7.72 7.72c-.78.78-.78 2.05 0 2.83L4 21.41c.39.39.9.59 1.41.59.51 0 1.02-.2 1.41-.59l7.78-7.78 2.81-2.81c.8-.78.8-2.07 0-2.86zM5.41 20L4 18.59l7.72-7.72 1.47 1.35L5.41 20z\"/>\n",
              "  </svg>\n",
              "      </button>\n",
              "      \n",
              "  <style>\n",
              "    .colab-df-container {\n",
              "      display:flex;\n",
              "      flex-wrap:wrap;\n",
              "      gap: 12px;\n",
              "    }\n",
              "\n",
              "    .colab-df-convert {\n",
              "      background-color: #E8F0FE;\n",
              "      border: none;\n",
              "      border-radius: 50%;\n",
              "      cursor: pointer;\n",
              "      display: none;\n",
              "      fill: #1967D2;\n",
              "      height: 32px;\n",
              "      padding: 0 0 0 0;\n",
              "      width: 32px;\n",
              "    }\n",
              "\n",
              "    .colab-df-convert:hover {\n",
              "      background-color: #E2EBFA;\n",
              "      box-shadow: 0px 1px 2px rgba(60, 64, 67, 0.3), 0px 1px 3px 1px rgba(60, 64, 67, 0.15);\n",
              "      fill: #174EA6;\n",
              "    }\n",
              "\n",
              "    [theme=dark] .colab-df-convert {\n",
              "      background-color: #3B4455;\n",
              "      fill: #D2E3FC;\n",
              "    }\n",
              "\n",
              "    [theme=dark] .colab-df-convert:hover {\n",
              "      background-color: #434B5C;\n",
              "      box-shadow: 0px 1px 3px 1px rgba(0, 0, 0, 0.15);\n",
              "      filter: drop-shadow(0px 1px 2px rgba(0, 0, 0, 0.3));\n",
              "      fill: #FFFFFF;\n",
              "    }\n",
              "  </style>\n",
              "\n",
              "      <script>\n",
              "        const buttonEl =\n",
              "          document.querySelector('#df-e10bc252-56af-4111-b27a-9f1df7b5fb6a button.colab-df-convert');\n",
              "        buttonEl.style.display =\n",
              "          google.colab.kernel.accessAllowed ? 'block' : 'none';\n",
              "\n",
              "        async function convertToInteractive(key) {\n",
              "          const element = document.querySelector('#df-e10bc252-56af-4111-b27a-9f1df7b5fb6a');\n",
              "          const dataTable =\n",
              "            await google.colab.kernel.invokeFunction('convertToInteractive',\n",
              "                                                     [key], {});\n",
              "          if (!dataTable) return;\n",
              "\n",
              "          const docLinkHtml = 'Like what you see? Visit the ' +\n",
              "            '<a target=\"_blank\" href=https://colab.research.google.com/notebooks/data_table.ipynb>data table notebook</a>'\n",
              "            + ' to learn more about interactive tables.';\n",
              "          element.innerHTML = '';\n",
              "          dataTable['output_type'] = 'display_data';\n",
              "          await google.colab.output.renderOutput(dataTable, element);\n",
              "          const docLink = document.createElement('div');\n",
              "          docLink.innerHTML = docLinkHtml;\n",
              "          element.appendChild(docLink);\n",
              "        }\n",
              "      </script>\n",
              "    </div>\n",
              "  </div>\n",
              "  "
            ]
          },
          "metadata": {},
          "execution_count": 15
        }
      ]
    },
    {
      "cell_type": "code",
      "source": [
        "cust_details.info()"
      ],
      "metadata": {
        "colab": {
          "base_uri": "https://localhost:8080/"
        },
        "id": "PFhkrRcgEH4b",
        "outputId": "c7b7f000-399e-4ddc-ec03-57f09602850e"
      },
      "execution_count": 16,
      "outputs": [
        {
          "output_type": "stream",
          "name": "stdout",
          "text": [
            "<class 'pandas.core.frame.DataFrame'>\n",
            "Int64Index: 3254 entries, 1 to 3999\n",
            "Data columns (total 8 columns):\n",
            " #   Column                               Non-Null Count  Dtype         \n",
            "---  ------                               --------------  -----         \n",
            " 0   gender                               3254 non-null   object        \n",
            " 1   past_3_years_bike_related_purchases  3254 non-null   int64         \n",
            " 2   DOB                                  3254 non-null   datetime64[ns]\n",
            " 3   job_industry_category                3254 non-null   object        \n",
            " 4   wealth_segment                       3254 non-null   object        \n",
            " 5   owns_car                             3254 non-null   object        \n",
            " 6   tenure                               3254 non-null   float64       \n",
            " 7   property_valuation                   3254 non-null   int64         \n",
            "dtypes: datetime64[ns](1), float64(1), int64(2), object(4)\n",
            "memory usage: 228.8+ KB\n"
          ]
        }
      ]
    },
    {
      "cell_type": "code",
      "source": [
        "cust_index = list(cust_details.index)"
      ],
      "metadata": {
        "id": "m3i_kjdPFvRr"
      },
      "execution_count": 17,
      "outputs": []
    },
    {
      "cell_type": "code",
      "source": [
        "cust_index[:10]"
      ],
      "metadata": {
        "colab": {
          "base_uri": "https://localhost:8080/"
        },
        "id": "M8YtPj--IhQF",
        "outputId": "b0ec1280-f066-43e9-d5b2-1441b0f3cc9f"
      },
      "execution_count": 18,
      "outputs": [
        {
          "output_type": "execute_result",
          "data": {
            "text/plain": [
              "[1, 2, 4, 6, 7, 9, 11, 12, 13, 14]"
            ]
          },
          "metadata": {},
          "execution_count": 18
        }
      ]
    },
    {
      "cell_type": "code",
      "source": [
        "len(cust_index)"
      ],
      "metadata": {
        "colab": {
          "base_uri": "https://localhost:8080/"
        },
        "id": "hBdyav28FvT9",
        "outputId": "da66c5d5-e59c-4330-9cb1-56ff8b585702"
      },
      "execution_count": 19,
      "outputs": [
        {
          "output_type": "execute_result",
          "data": {
            "text/plain": [
              "3254"
            ]
          },
          "metadata": {},
          "execution_count": 19
        }
      ]
    },
    {
      "cell_type": "code",
      "source": [
        "trans_grouped = cust_trans.groupby('customer_id')['standard_cost'].sum()"
      ],
      "metadata": {
        "id": "WSFvIbTkDc7i"
      },
      "execution_count": 20,
      "outputs": []
    },
    {
      "cell_type": "code",
      "source": [
        "trans_grouped"
      ],
      "metadata": {
        "colab": {
          "base_uri": "https://localhost:8080/"
        },
        "id": "uhEuOajUFbP4",
        "outputId": "4b815b53-f096-42b3-96ed-22e2f5c812bc"
      },
      "execution_count": 21,
      "outputs": [
        {
          "output_type": "execute_result",
          "data": {
            "text/plain": [
              "customer_id\n",
              "1       6066.360000\n",
              "2       1922.810000\n",
              "3       6525.420000\n",
              "4        827.150000\n",
              "5       3508.260000\n",
              "           ...     \n",
              "3497    2095.750000\n",
              "3498    2029.730000\n",
              "3499    2718.230000\n",
              "3500    3136.550000\n",
              "5034    1250.435028\n",
              "Name: standard_cost, Length: 3494, dtype: float64"
            ]
          },
          "metadata": {},
          "execution_count": 21
        }
      ]
    },
    {
      "cell_type": "code",
      "source": [
        "trans_index = list(trans_grouped.index)"
      ],
      "metadata": {
        "id": "VYJQsrpvJV1T"
      },
      "execution_count": 22,
      "outputs": []
    },
    {
      "cell_type": "code",
      "source": [
        "trans_list=[]\n",
        "\n",
        "for id in cust_index:\n",
        "  if id in trans_index:\n",
        "    trans_list.append(trans_grouped[id])"
      ],
      "metadata": {
        "id": "bt-Q3G1CGSzk"
      },
      "execution_count": 23,
      "outputs": []
    },
    {
      "cell_type": "code",
      "source": [
        "len(trans_list)"
      ],
      "metadata": {
        "colab": {
          "base_uri": "https://localhost:8080/"
        },
        "id": "sMpY8N8XJlX-",
        "outputId": "7891f81e-b2f3-417b-d700-95a371cce799"
      },
      "execution_count": 24,
      "outputs": [
        {
          "output_type": "execute_result",
          "data": {
            "text/plain": [
              "2853"
            ]
          },
          "metadata": {},
          "execution_count": 24
        }
      ]
    },
    {
      "cell_type": "code",
      "source": [
        "trans_cust_index = []\n",
        "\n",
        "for i in cust_index:\n",
        "  if i in trans_index:\n",
        "    trans_cust_index.append(i)"
      ],
      "metadata": {
        "id": "sTg0NnwXMGzA"
      },
      "execution_count": 25,
      "outputs": []
    },
    {
      "cell_type": "code",
      "source": [
        "len(trans_cust_index)"
      ],
      "metadata": {
        "colab": {
          "base_uri": "https://localhost:8080/"
        },
        "id": "TnzcY-bPMU8P",
        "outputId": "bcb649c7-1b11-4f4a-8ecc-c3511c2f7312"
      },
      "execution_count": 26,
      "outputs": [
        {
          "output_type": "execute_result",
          "data": {
            "text/plain": [
              "2853"
            ]
          },
          "metadata": {},
          "execution_count": 26
        }
      ]
    },
    {
      "cell_type": "code",
      "source": [
        "trans_series = pd.Series(trans_list, index=trans_cust_index, name='trans')"
      ],
      "metadata": {
        "id": "Rp6e0VAgKFrK"
      },
      "execution_count": 27,
      "outputs": []
    },
    {
      "cell_type": "code",
      "source": [
        "trans_series.head()"
      ],
      "metadata": {
        "colab": {
          "base_uri": "https://localhost:8080/"
        },
        "id": "7ljE-IVnKSaS",
        "outputId": "a481b9cc-03d7-47b9-9e9e-cf38d6c3f96d"
      },
      "execution_count": 28,
      "outputs": [
        {
          "output_type": "execute_result",
          "data": {
            "text/plain": [
              "1    6066.36\n",
              "2    1922.81\n",
              "4     827.15\n",
              "6    1985.14\n",
              "7     775.27\n",
              "Name: trans, dtype: float64"
            ]
          },
          "metadata": {},
          "execution_count": 28
        }
      ]
    },
    {
      "cell_type": "code",
      "source": [
        "cust_trans_details = pd.merge(cust_details, trans_series, left_index=True, right_index=True)"
      ],
      "metadata": {
        "id": "AVNq5iGEJ3bd"
      },
      "execution_count": 29,
      "outputs": []
    },
    {
      "cell_type": "code",
      "source": [
        "cust_trans_details.shape"
      ],
      "metadata": {
        "colab": {
          "base_uri": "https://localhost:8080/"
        },
        "id": "Yz3-DnE7NCb0",
        "outputId": "923a9b49-10e1-417d-f837-082224773915"
      },
      "execution_count": 30,
      "outputs": [
        {
          "output_type": "execute_result",
          "data": {
            "text/plain": [
              "(2853, 9)"
            ]
          },
          "metadata": {},
          "execution_count": 30
        }
      ]
    },
    {
      "cell_type": "markdown",
      "source": [
        "## Data Preprocessing"
      ],
      "metadata": {
        "id": "Hm4k1tglNsrn"
      }
    },
    {
      "cell_type": "code",
      "source": [
        "cust_trans_details.head()"
      ],
      "metadata": {
        "colab": {
          "base_uri": "https://localhost:8080/",
          "height": 357
        },
        "id": "tMJ4wxJUNvpz",
        "outputId": "930f5881-9f00-4000-bd06-06a943509e12"
      },
      "execution_count": 31,
      "outputs": [
        {
          "output_type": "execute_result",
          "data": {
            "text/plain": [
              "   gender  past_3_years_bike_related_purchases        DOB  \\\n",
              "1       F                                   93 1953-10-12   \n",
              "2    Male                                   81 1980-12-16   \n",
              "4    Male                                   33 1961-10-03   \n",
              "6    Male                                   35 1966-09-16   \n",
              "7  Female                                    6 1976-02-23   \n",
              "\n",
              "  job_industry_category     wealth_segment owns_car  tenure  \\\n",
              "1                Health      Mass Customer      Yes    11.0   \n",
              "2    Financial Services      Mass Customer      Yes    16.0   \n",
              "4                    IT      Mass Customer       No     7.0   \n",
              "6                Retail     High Net Worth      Yes    13.0   \n",
              "7    Financial Services  Affluent Customer      Yes    11.0   \n",
              "\n",
              "   property_valuation    trans  \n",
              "1                  10  6066.36  \n",
              "2                  10  1922.81  \n",
              "4                   9   827.15  \n",
              "6                   9  1985.14  \n",
              "7                   9   775.27  "
            ],
            "text/html": [
              "\n",
              "  <div id=\"df-696e5ba3-0888-4f97-924f-fb7403a7994d\">\n",
              "    <div class=\"colab-df-container\">\n",
              "      <div>\n",
              "<style scoped>\n",
              "    .dataframe tbody tr th:only-of-type {\n",
              "        vertical-align: middle;\n",
              "    }\n",
              "\n",
              "    .dataframe tbody tr th {\n",
              "        vertical-align: top;\n",
              "    }\n",
              "\n",
              "    .dataframe thead th {\n",
              "        text-align: right;\n",
              "    }\n",
              "</style>\n",
              "<table border=\"1\" class=\"dataframe\">\n",
              "  <thead>\n",
              "    <tr style=\"text-align: right;\">\n",
              "      <th></th>\n",
              "      <th>gender</th>\n",
              "      <th>past_3_years_bike_related_purchases</th>\n",
              "      <th>DOB</th>\n",
              "      <th>job_industry_category</th>\n",
              "      <th>wealth_segment</th>\n",
              "      <th>owns_car</th>\n",
              "      <th>tenure</th>\n",
              "      <th>property_valuation</th>\n",
              "      <th>trans</th>\n",
              "    </tr>\n",
              "  </thead>\n",
              "  <tbody>\n",
              "    <tr>\n",
              "      <th>1</th>\n",
              "      <td>F</td>\n",
              "      <td>93</td>\n",
              "      <td>1953-10-12</td>\n",
              "      <td>Health</td>\n",
              "      <td>Mass Customer</td>\n",
              "      <td>Yes</td>\n",
              "      <td>11.0</td>\n",
              "      <td>10</td>\n",
              "      <td>6066.36</td>\n",
              "    </tr>\n",
              "    <tr>\n",
              "      <th>2</th>\n",
              "      <td>Male</td>\n",
              "      <td>81</td>\n",
              "      <td>1980-12-16</td>\n",
              "      <td>Financial Services</td>\n",
              "      <td>Mass Customer</td>\n",
              "      <td>Yes</td>\n",
              "      <td>16.0</td>\n",
              "      <td>10</td>\n",
              "      <td>1922.81</td>\n",
              "    </tr>\n",
              "    <tr>\n",
              "      <th>4</th>\n",
              "      <td>Male</td>\n",
              "      <td>33</td>\n",
              "      <td>1961-10-03</td>\n",
              "      <td>IT</td>\n",
              "      <td>Mass Customer</td>\n",
              "      <td>No</td>\n",
              "      <td>7.0</td>\n",
              "      <td>9</td>\n",
              "      <td>827.15</td>\n",
              "    </tr>\n",
              "    <tr>\n",
              "      <th>6</th>\n",
              "      <td>Male</td>\n",
              "      <td>35</td>\n",
              "      <td>1966-09-16</td>\n",
              "      <td>Retail</td>\n",
              "      <td>High Net Worth</td>\n",
              "      <td>Yes</td>\n",
              "      <td>13.0</td>\n",
              "      <td>9</td>\n",
              "      <td>1985.14</td>\n",
              "    </tr>\n",
              "    <tr>\n",
              "      <th>7</th>\n",
              "      <td>Female</td>\n",
              "      <td>6</td>\n",
              "      <td>1976-02-23</td>\n",
              "      <td>Financial Services</td>\n",
              "      <td>Affluent Customer</td>\n",
              "      <td>Yes</td>\n",
              "      <td>11.0</td>\n",
              "      <td>9</td>\n",
              "      <td>775.27</td>\n",
              "    </tr>\n",
              "  </tbody>\n",
              "</table>\n",
              "</div>\n",
              "      <button class=\"colab-df-convert\" onclick=\"convertToInteractive('df-696e5ba3-0888-4f97-924f-fb7403a7994d')\"\n",
              "              title=\"Convert this dataframe to an interactive table.\"\n",
              "              style=\"display:none;\">\n",
              "        \n",
              "  <svg xmlns=\"http://www.w3.org/2000/svg\" height=\"24px\"viewBox=\"0 0 24 24\"\n",
              "       width=\"24px\">\n",
              "    <path d=\"M0 0h24v24H0V0z\" fill=\"none\"/>\n",
              "    <path d=\"M18.56 5.44l.94 2.06.94-2.06 2.06-.94-2.06-.94-.94-2.06-.94 2.06-2.06.94zm-11 1L8.5 8.5l.94-2.06 2.06-.94-2.06-.94L8.5 2.5l-.94 2.06-2.06.94zm10 10l.94 2.06.94-2.06 2.06-.94-2.06-.94-.94-2.06-.94 2.06-2.06.94z\"/><path d=\"M17.41 7.96l-1.37-1.37c-.4-.4-.92-.59-1.43-.59-.52 0-1.04.2-1.43.59L10.3 9.45l-7.72 7.72c-.78.78-.78 2.05 0 2.83L4 21.41c.39.39.9.59 1.41.59.51 0 1.02-.2 1.41-.59l7.78-7.78 2.81-2.81c.8-.78.8-2.07 0-2.86zM5.41 20L4 18.59l7.72-7.72 1.47 1.35L5.41 20z\"/>\n",
              "  </svg>\n",
              "      </button>\n",
              "      \n",
              "  <style>\n",
              "    .colab-df-container {\n",
              "      display:flex;\n",
              "      flex-wrap:wrap;\n",
              "      gap: 12px;\n",
              "    }\n",
              "\n",
              "    .colab-df-convert {\n",
              "      background-color: #E8F0FE;\n",
              "      border: none;\n",
              "      border-radius: 50%;\n",
              "      cursor: pointer;\n",
              "      display: none;\n",
              "      fill: #1967D2;\n",
              "      height: 32px;\n",
              "      padding: 0 0 0 0;\n",
              "      width: 32px;\n",
              "    }\n",
              "\n",
              "    .colab-df-convert:hover {\n",
              "      background-color: #E2EBFA;\n",
              "      box-shadow: 0px 1px 2px rgba(60, 64, 67, 0.3), 0px 1px 3px 1px rgba(60, 64, 67, 0.15);\n",
              "      fill: #174EA6;\n",
              "    }\n",
              "\n",
              "    [theme=dark] .colab-df-convert {\n",
              "      background-color: #3B4455;\n",
              "      fill: #D2E3FC;\n",
              "    }\n",
              "\n",
              "    [theme=dark] .colab-df-convert:hover {\n",
              "      background-color: #434B5C;\n",
              "      box-shadow: 0px 1px 3px 1px rgba(0, 0, 0, 0.15);\n",
              "      filter: drop-shadow(0px 1px 2px rgba(0, 0, 0, 0.3));\n",
              "      fill: #FFFFFF;\n",
              "    }\n",
              "  </style>\n",
              "\n",
              "      <script>\n",
              "        const buttonEl =\n",
              "          document.querySelector('#df-696e5ba3-0888-4f97-924f-fb7403a7994d button.colab-df-convert');\n",
              "        buttonEl.style.display =\n",
              "          google.colab.kernel.accessAllowed ? 'block' : 'none';\n",
              "\n",
              "        async function convertToInteractive(key) {\n",
              "          const element = document.querySelector('#df-696e5ba3-0888-4f97-924f-fb7403a7994d');\n",
              "          const dataTable =\n",
              "            await google.colab.kernel.invokeFunction('convertToInteractive',\n",
              "                                                     [key], {});\n",
              "          if (!dataTable) return;\n",
              "\n",
              "          const docLinkHtml = 'Like what you see? Visit the ' +\n",
              "            '<a target=\"_blank\" href=https://colab.research.google.com/notebooks/data_table.ipynb>data table notebook</a>'\n",
              "            + ' to learn more about interactive tables.';\n",
              "          element.innerHTML = '';\n",
              "          dataTable['output_type'] = 'display_data';\n",
              "          await google.colab.output.renderOutput(dataTable, element);\n",
              "          const docLink = document.createElement('div');\n",
              "          docLink.innerHTML = docLinkHtml;\n",
              "          element.appendChild(docLink);\n",
              "        }\n",
              "      </script>\n",
              "    </div>\n",
              "  </div>\n",
              "  "
            ]
          },
          "metadata": {},
          "execution_count": 31
        }
      ]
    },
    {
      "cell_type": "markdown",
      "source": [
        "### Preprocessing Gender"
      ],
      "metadata": {
        "id": "-aUHH0o6OZdz"
      }
    },
    {
      "cell_type": "code",
      "source": [
        "pd.unique(cust_trans_details['gender'])"
      ],
      "metadata": {
        "colab": {
          "base_uri": "https://localhost:8080/"
        },
        "id": "5PfYF5_MONPC",
        "outputId": "e37b8795-f7ca-4f94-895f-a6ba5b62660d"
      },
      "execution_count": 32,
      "outputs": [
        {
          "output_type": "execute_result",
          "data": {
            "text/plain": [
              "array(['F', 'Male', 'Female', 'U', 'Femal'], dtype=object)"
            ]
          },
          "metadata": {},
          "execution_count": 32
        }
      ]
    },
    {
      "cell_type": "code",
      "source": [
        "gender_list = list(cust_trans_details['gender'].values)"
      ],
      "metadata": {
        "id": "m-P1-AUXOeMV"
      },
      "execution_count": 33,
      "outputs": []
    },
    {
      "cell_type": "code",
      "source": [
        "for i in range(len(gender_list)):\n",
        "  if gender_list[i]=='F':\n",
        "    gender_list[i] = 0\n",
        "  if gender_list[i]=='Femal':\n",
        "    gender_list[i] = 0\n",
        "  if gender_list[i]=='Female':\n",
        "    gender_list[i] = 0\n",
        "  if gender_list[i]=='Male':\n",
        "    gender_list[i] = 1"
      ],
      "metadata": {
        "id": "hM-fA8AUO8Ha"
      },
      "execution_count": 34,
      "outputs": []
    },
    {
      "cell_type": "code",
      "source": [
        "gender_series = pd.Series(gender_list, index=cust_trans_details.index.values, name='Gender')"
      ],
      "metadata": {
        "id": "caLI5kafTLX5"
      },
      "execution_count": 35,
      "outputs": []
    },
    {
      "cell_type": "code",
      "source": [
        "gender_series.head()"
      ],
      "metadata": {
        "colab": {
          "base_uri": "https://localhost:8080/"
        },
        "id": "nr0-3jrKTm8O",
        "outputId": "6de65f21-fad0-47c5-cb83-21ab635d0833"
      },
      "execution_count": 82,
      "outputs": [
        {
          "output_type": "execute_result",
          "data": {
            "text/plain": [
              "1    0\n",
              "2    1\n",
              "4    1\n",
              "6    1\n",
              "7    0\n",
              "Name: Gender, dtype: object"
            ]
          },
          "metadata": {},
          "execution_count": 82
        }
      ]
    },
    {
      "cell_type": "markdown",
      "source": [
        "### Preprocessing DOB\n",
        "Convert to Age with present day as 01/01/2018"
      ],
      "metadata": {
        "id": "7LuhDxAHTvZ8"
      }
    },
    {
      "cell_type": "code",
      "source": [
        "age_list=[]\n",
        "\n",
        "for id in list(cust_trans_details.index):\n",
        "  age_list.append(2018-cust_trans_details['DOB'][id].year)"
      ],
      "metadata": {
        "id": "2K4RwqXoxXds"
      },
      "execution_count": 100,
      "outputs": []
    },
    {
      "cell_type": "code",
      "source": [
        "age_list[:5]"
      ],
      "metadata": {
        "colab": {
          "base_uri": "https://localhost:8080/"
        },
        "id": "LBMDa8cz0jtI",
        "outputId": "9d32e8c9-158c-4494-ec3f-37b3c0979cea"
      },
      "execution_count": 101,
      "outputs": [
        {
          "output_type": "execute_result",
          "data": {
            "text/plain": [
              "[65, 38, 57, 52, 42]"
            ]
          },
          "metadata": {},
          "execution_count": 101
        }
      ]
    },
    {
      "cell_type": "markdown",
      "source": [
        "Ages:\n",
        "* 10 to 20 -> encoded as 1\n",
        "* 21 to 30 -> encoded as 2\n",
        "* 31 to 40 -> encoded as 3\n",
        "* 41 to 50 -> encoded as 4\n",
        "* 51 to 60 -> encoded as 5\n",
        "* greater than 60 -> encoded as 6"
      ],
      "metadata": {
        "id": "QxBGoqvIzOdi"
      }
    },
    {
      "cell_type": "code",
      "source": [
        "for i in range(len(age_list)):\n",
        "  if 10<age_list[i]<=20:\n",
        "    age_list[i] = 1\n",
        "  elif 20<age_list[i]<=30:\n",
        "    age_list[i] = 2\n",
        "  elif 30<age_list[i]<=40:\n",
        "    age_list[i] = 3\n",
        "  elif 40<age_list[i]<=50:\n",
        "    age_list[i] = 4\n",
        "  elif 50<age_list[i]<=60:\n",
        "    age_list[i] = 5\n",
        "  else:\n",
        "    age_list[i] = 6"
      ],
      "metadata": {
        "id": "Aw5cGBwEzkqr"
      },
      "execution_count": 120,
      "outputs": []
    },
    {
      "cell_type": "code",
      "source": [
        "age_series = pd.Series(age_list, index=cust_trans_details.index.values, name='Age')"
      ],
      "metadata": {
        "id": "tXdg_1rOyVQ7"
      },
      "execution_count": 121,
      "outputs": []
    },
    {
      "cell_type": "code",
      "source": [
        "age_series.head()"
      ],
      "metadata": {
        "colab": {
          "base_uri": "https://localhost:8080/"
        },
        "id": "p4RBBGtV0bLu",
        "outputId": "084139cc-71bd-40bd-d58d-e1cbbd9d353a"
      },
      "execution_count": 122,
      "outputs": [
        {
          "output_type": "execute_result",
          "data": {
            "text/plain": [
              "1    6\n",
              "2    3\n",
              "4    5\n",
              "6    5\n",
              "7    4\n",
              "Name: Age, dtype: int64"
            ]
          },
          "metadata": {},
          "execution_count": 122
        }
      ]
    },
    {
      "cell_type": "markdown",
      "source": [
        "### Preprocessing owns_car:\n",
        "Yes - 1\n",
        "\n",
        "No - 0"
      ],
      "metadata": {
        "id": "LnB7H4r-12ye"
      }
    },
    {
      "cell_type": "code",
      "source": [
        "car_list=[]\n",
        "\n",
        "for id in list(cust_trans_details.index):\n",
        "  if cust_trans_details['owns_car'][id]=='Yes':\n",
        "    car_list.append(1)\n",
        "  else:\n",
        "    car_list.append(0)"
      ],
      "metadata": {
        "id": "OQRXg6Ov2AtN"
      },
      "execution_count": 124,
      "outputs": []
    },
    {
      "cell_type": "code",
      "source": [
        "car_series = pd.Series(car_list, index=cust_trans_details.index.values, name='Owns Car')"
      ],
      "metadata": {
        "id": "YF63t1EQ2ceL"
      },
      "execution_count": 125,
      "outputs": []
    },
    {
      "cell_type": "code",
      "source": [
        "car_series.head()"
      ],
      "metadata": {
        "colab": {
          "base_uri": "https://localhost:8080/"
        },
        "id": "0UHVCQiE2qp3",
        "outputId": "847d647b-a009-4c15-c44d-5f9efc2401d8"
      },
      "execution_count": 126,
      "outputs": [
        {
          "output_type": "execute_result",
          "data": {
            "text/plain": [
              "1    1\n",
              "2    1\n",
              "4    0\n",
              "6    1\n",
              "7    1\n",
              "Name: Owns Car, dtype: int64"
            ]
          },
          "metadata": {},
          "execution_count": 126
        }
      ]
    },
    {
      "cell_type": "markdown",
      "source": [
        "### Preprocessing Job Category"
      ],
      "metadata": {
        "id": "tQxmwvF02tfh"
      }
    },
    {
      "cell_type": "code",
      "source": [
        "pd.unique(cust_trans_details['job_industry_category'])"
      ],
      "metadata": {
        "colab": {
          "base_uri": "https://localhost:8080/"
        },
        "id": "ME68tLlH3GqV",
        "outputId": "c7b9c3f9-0b6f-45c1-d3c4-8ecab7b26bd5"
      },
      "execution_count": 127,
      "outputs": [
        {
          "output_type": "execute_result",
          "data": {
            "text/plain": [
              "array(['Health', 'Financial Services', 'IT', 'Retail', 'Argiculture',\n",
              "       'Property', 'Manufacturing', 'Telecommunications', 'Entertainment'],\n",
              "      dtype=object)"
            ]
          },
          "metadata": {},
          "execution_count": 127
        }
      ]
    },
    {
      "cell_type": "code",
      "source": [
        "from sklearn.preprocessing import OrdinalEncoder\n",
        "\n",
        "oe = OrdinalEncoder()"
      ],
      "metadata": {
        "id": "9gfg98_H3i_L"
      },
      "execution_count": 129,
      "outputs": []
    },
    {
      "cell_type": "code",
      "source": [
        "job_category = oe.fit_transform(cust_trans_details['job_industry_category'].values.reshape(-1,1))"
      ],
      "metadata": {
        "id": "Vz2GfkNY3rde"
      },
      "execution_count": 131,
      "outputs": []
    },
    {
      "cell_type": "code",
      "source": [
        "job_category.reshape(-1,)"
      ],
      "metadata": {
        "colab": {
          "base_uri": "https://localhost:8080/"
        },
        "id": "iw8XJHRn36a-",
        "outputId": "f6ff87f3-971f-41f1-9452-0ea8289c07fd"
      },
      "execution_count": 134,
      "outputs": [
        {
          "output_type": "execute_result",
          "data": {
            "text/plain": [
              "array([3., 2., 4., ..., 5., 5., 1.])"
            ]
          },
          "metadata": {},
          "execution_count": 134
        }
      ]
    },
    {
      "cell_type": "code",
      "source": [
        "job_category_series = pd.Series(job_category.reshape(-1,), index=cust_trans_details.index.values, name = 'Job Category')"
      ],
      "metadata": {
        "id": "-CmTsM2N38we"
      },
      "execution_count": 135,
      "outputs": []
    },
    {
      "cell_type": "code",
      "source": [
        "job_category_series.head()"
      ],
      "metadata": {
        "colab": {
          "base_uri": "https://localhost:8080/"
        },
        "id": "i7MfyFLk4OgB",
        "outputId": "4322a1ca-b884-46dd-8583-410caaa1eea0"
      },
      "execution_count": 137,
      "outputs": [
        {
          "output_type": "execute_result",
          "data": {
            "text/plain": [
              "1    3.0\n",
              "2    2.0\n",
              "4    4.0\n",
              "6    7.0\n",
              "7    2.0\n",
              "Name: Job Category, dtype: float64"
            ]
          },
          "metadata": {},
          "execution_count": 137
        }
      ]
    },
    {
      "cell_type": "markdown",
      "source": [
        "### Preprocessing Wealth Segment"
      ],
      "metadata": {
        "id": "rFTrvzWt4Vj_"
      }
    },
    {
      "cell_type": "code",
      "source": [
        "pd.unique(cust_trans_details['wealth_segment'])"
      ],
      "metadata": {
        "colab": {
          "base_uri": "https://localhost:8080/"
        },
        "id": "Abfsm88e4Y1I",
        "outputId": "6b217abe-374a-4d46-91b4-fd18c115d5ad"
      },
      "execution_count": 138,
      "outputs": [
        {
          "output_type": "execute_result",
          "data": {
            "text/plain": [
              "array(['Mass Customer', 'High Net Worth', 'Affluent Customer'],\n",
              "      dtype=object)"
            ]
          },
          "metadata": {},
          "execution_count": 138
        }
      ]
    },
    {
      "cell_type": "code",
      "source": [
        "wealth_segment = oe.fit_transform(cust_trans_details['wealth_segment'].values.reshape(-1,1))"
      ],
      "metadata": {
        "id": "qxBpiGvR4apZ"
      },
      "execution_count": 139,
      "outputs": []
    },
    {
      "cell_type": "code",
      "source": [
        "wealth_segment_series = pd.Series(wealth_segment.reshape(-1,), index=cust_trans_details.index.values, name = 'Wealth Segment')"
      ],
      "metadata": {
        "id": "qbRVYrtk4arq"
      },
      "execution_count": 140,
      "outputs": []
    },
    {
      "cell_type": "code",
      "source": [
        "wealth_segment_series.head()"
      ],
      "metadata": {
        "colab": {
          "base_uri": "https://localhost:8080/"
        },
        "id": "KK0uZLbv4o5J",
        "outputId": "1f4e8232-e93f-4002-9517-5673c632e827"
      },
      "execution_count": 141,
      "outputs": [
        {
          "output_type": "execute_result",
          "data": {
            "text/plain": [
              "1    2.0\n",
              "2    2.0\n",
              "4    2.0\n",
              "6    1.0\n",
              "7    0.0\n",
              "Name: Wealth Segment, dtype: float64"
            ]
          },
          "metadata": {},
          "execution_count": 141
        }
      ]
    }
  ]
}